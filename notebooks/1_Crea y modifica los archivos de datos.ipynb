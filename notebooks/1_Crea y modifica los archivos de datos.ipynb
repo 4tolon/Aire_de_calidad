{
 "cells": [
  {
   "cell_type": "code",
   "execution_count": 1,
   "id": "2485e76f",
   "metadata": {},
   "outputs": [],
   "source": [
    "import pandas as pd\n",
    "import sys\n",
    "import os\n",
    "import glob\n",
    "sys.path.append('../src')\n",
    "import cargadata as cdat\n",
    "import datetime\n",
    "import seaborn as sns\n",
    "import numpy as np\n",
    "\n",
    "from matplotlib import pyplot as plt\n",
    "%matplotlib inline\n",
    "%config Inlinebackend.figure_format = 'retina'\n",
    "\n",
    "import seaborn as sns\n",
    "sns.set_context('poster')\n",
    "sns.set(rc={'figure.figsize': (16., 9.)})\n",
    "sns.set_style('whitegrid')\n",
    "\n",
    "import plotly.express as px\n",
    "import plotly.graph_objects as go"
   ]
  },
  {
   "cell_type": "code",
   "execution_count": 2,
   "id": "54807c68",
   "metadata": {},
   "outputs": [],
   "source": [
    "anos = ['2016', '2017', '2018', '2019', '2020', '2021',]"
   ]
  },
  {
   "cell_type": "code",
   "execution_count": 3,
   "id": "e2d9fba4",
   "metadata": {},
   "outputs": [],
   "source": [
    "subpath = ['../data/1_am_ca/', '../data/2_cm_ca/']"
   ]
  },
  {
   "cell_type": "code",
   "execution_count": 4,
   "id": "35f2906e",
   "metadata": {},
   "outputs": [],
   "source": [
    "lista_total= []\n",
    "nombres= []\n",
    "for s in subpath:\n",
    "    for a in anos:\n",
    "        lista_total+=(glob.glob(s + a + \"/*.csv\"))\n",
    "for e in lista_total: \n",
    "    nombres.append(e[10:12]+e[-11:])\n",
    "   "
   ]
  },
  {
   "cell_type": "code",
   "execution_count": 5,
   "id": "5a767d7b",
   "metadata": {},
   "outputs": [],
   "source": [
    "argumentos = list(zip(lista_total, nombres))"
   ]
  },
  {
   "cell_type": "code",
   "execution_count": 6,
   "id": "5ea4ccd4",
   "metadata": {},
   "outputs": [
    {
     "data": {
      "text/plain": [
       "'am2016_02.csv'"
      ]
     },
     "execution_count": 6,
     "metadata": {},
     "output_type": "execute_result"
    }
   ],
   "source": [
    "argumentos[1][1]"
   ]
  },
  {
   "cell_type": "code",
   "execution_count": 7,
   "id": "a95cbf03",
   "metadata": {},
   "outputs": [
    {
     "data": {
      "text/plain": [
       "141"
      ]
     },
     "execution_count": 7,
     "metadata": {},
     "output_type": "execute_result"
    }
   ],
   "source": [
    "len(argumentos)"
   ]
  },
  {
   "cell_type": "code",
   "execution_count": 8,
   "id": "49831111",
   "metadata": {},
   "outputs": [],
   "source": [
    "#cdat.ley_orden('../data/2_cm_ca/2016/2016_02.csv', 'ensayo1.csv')"
   ]
  },
  {
   "cell_type": "raw",
   "id": "71aca85b",
   "metadata": {},
   "source": [
    "for i in range(len(argumentos)):\n",
    "    cdat.ley_orden(argumentos[i][0], argumentos[i][1])"
   ]
  },
  {
   "cell_type": "code",
   "execution_count": null,
   "id": "7d1727b4",
   "metadata": {},
   "outputs": [],
   "source": []
  },
  {
   "cell_type": "markdown",
   "id": "59ef4d65",
   "metadata": {},
   "source": [
    "# Procesamos ahora con la funcion para un solo ensayo, empezamos por el 8"
   ]
  },
  {
   "cell_type": "code",
   "execution_count": 9,
   "id": "0e9be61f",
   "metadata": {},
   "outputs": [
    {
     "name": "stdout",
     "output_type": "stream",
     "text": [
      "../data/1_am_ca/2016/2016_01.csv  modificado para ensayo_8 y guadado corectamente en ../data/modificados/am2016_01.csv\n",
      "../data/1_am_ca/2016/2016_02.csv  modificado para ensayo_8 y guadado corectamente en ../data/modificados/am2016_02.csv\n",
      "../data/1_am_ca/2016/2016_03.csv  modificado para ensayo_8 y guadado corectamente en ../data/modificados/am2016_03.csv\n",
      "../data/1_am_ca/2016/2016_04.csv  modificado para ensayo_8 y guadado corectamente en ../data/modificados/am2016_04.csv\n",
      "../data/1_am_ca/2016/2016_05.csv  modificado para ensayo_8 y guadado corectamente en ../data/modificados/am2016_05.csv\n",
      "../data/1_am_ca/2016/2016_06.csv  modificado para ensayo_8 y guadado corectamente en ../data/modificados/am2016_06.csv\n",
      "../data/1_am_ca/2016/2016_07.csv  modificado para ensayo_8 y guadado corectamente en ../data/modificados/am2016_07.csv\n",
      "../data/1_am_ca/2016/2016_08.csv  modificado para ensayo_8 y guadado corectamente en ../data/modificados/am2016_08.csv\n",
      "../data/1_am_ca/2016/2016_09.csv  modificado para ensayo_8 y guadado corectamente en ../data/modificados/am2016_09.csv\n",
      "../data/1_am_ca/2016/2016_10.csv  modificado para ensayo_8 y guadado corectamente en ../data/modificados/am2016_10.csv\n",
      "../data/1_am_ca/2016/2016_11.csv  modificado para ensayo_8 y guadado corectamente en ../data/modificados/am2016_11.csv\n",
      "../data/1_am_ca/2016/2016_12.csv  modificado para ensayo_8 y guadado corectamente en ../data/modificados/am2016_12.csv\n",
      "../data/1_am_ca/2017/2017_01.csv  modificado para ensayo_8 y guadado corectamente en ../data/modificados/am2017_01.csv\n",
      "../data/1_am_ca/2017/2017_02.csv  modificado para ensayo_8 y guadado corectamente en ../data/modificados/am2017_02.csv\n",
      "../data/1_am_ca/2017/2017_03.csv  modificado para ensayo_8 y guadado corectamente en ../data/modificados/am2017_03.csv\n",
      "../data/1_am_ca/2017/2017_04.csv  modificado para ensayo_8 y guadado corectamente en ../data/modificados/am2017_04.csv\n",
      "../data/1_am_ca/2017/2017_05.csv  modificado para ensayo_8 y guadado corectamente en ../data/modificados/am2017_05.csv\n",
      "../data/1_am_ca/2017/2017_06.csv  modificado para ensayo_8 y guadado corectamente en ../data/modificados/am2017_06.csv\n",
      "../data/1_am_ca/2017/2017_07.csv  modificado para ensayo_8 y guadado corectamente en ../data/modificados/am2017_07.csv\n",
      "../data/1_am_ca/2017/2017_08.csv  modificado para ensayo_8 y guadado corectamente en ../data/modificados/am2017_08.csv\n",
      "../data/1_am_ca/2017/2017_09.csv  modificado para ensayo_8 y guadado corectamente en ../data/modificados/am2017_09.csv\n",
      "../data/1_am_ca/2017/2017_10.csv  modificado para ensayo_8 y guadado corectamente en ../data/modificados/am2017_10.csv\n",
      "../data/1_am_ca/2017/2017_11.csv  modificado para ensayo_8 y guadado corectamente en ../data/modificados/am2017_11.csv\n",
      "../data/1_am_ca/2017/2017_12.csv  modificado para ensayo_8 y guadado corectamente en ../data/modificados/am2017_12.csv\n",
      "../data/1_am_ca/2018/2018_01.csv  modificado para ensayo_8 y guadado corectamente en ../data/modificados/am2018_01.csv\n",
      "../data/1_am_ca/2018/2018_02.csv  modificado para ensayo_8 y guadado corectamente en ../data/modificados/am2018_02.csv\n",
      "../data/1_am_ca/2018/2018_03.csv  modificado para ensayo_8 y guadado corectamente en ../data/modificados/am2018_03.csv\n",
      "../data/1_am_ca/2018/2018_04.csv  modificado para ensayo_8 y guadado corectamente en ../data/modificados/am2018_04.csv\n",
      "../data/1_am_ca/2018/2018_05.csv  modificado para ensayo_8 y guadado corectamente en ../data/modificados/am2018_05.csv\n",
      "../data/1_am_ca/2018/2018_06.csv  modificado para ensayo_8 y guadado corectamente en ../data/modificados/am2018_06.csv\n",
      "../data/1_am_ca/2018/2018_07.csv  modificado para ensayo_8 y guadado corectamente en ../data/modificados/am2018_07.csv\n",
      "../data/1_am_ca/2018/2018_08.csv  modificado para ensayo_8 y guadado corectamente en ../data/modificados/am2018_08.csv\n",
      "../data/1_am_ca/2018/2018_09.csv  modificado para ensayo_8 y guadado corectamente en ../data/modificados/am2018_09.csv\n",
      "../data/1_am_ca/2018/2018_10.csv  modificado para ensayo_8 y guadado corectamente en ../data/modificados/am2018_10.csv\n",
      "../data/1_am_ca/2018/2018_11.csv  modificado para ensayo_8 y guadado corectamente en ../data/modificados/am2018_11.csv\n",
      "../data/1_am_ca/2018/2018_12.csv  modificado para ensayo_8 y guadado corectamente en ../data/modificados/am2018_12.csv\n",
      "../data/1_am_ca/2019/2019_01.csv  modificado para ensayo_8 y guadado corectamente en ../data/modificados/am2019_01.csv\n",
      "../data/1_am_ca/2019/2019_02.csv  modificado para ensayo_8 y guadado corectamente en ../data/modificados/am2019_02.csv\n",
      "../data/1_am_ca/2019/2019_03.csv  modificado para ensayo_8 y guadado corectamente en ../data/modificados/am2019_03.csv\n",
      "../data/1_am_ca/2019/2019_04.csv  modificado para ensayo_8 y guadado corectamente en ../data/modificados/am2019_04.csv\n",
      "../data/1_am_ca/2019/2019_05.csv  modificado para ensayo_8 y guadado corectamente en ../data/modificados/am2019_05.csv\n",
      "../data/1_am_ca/2019/2019_06.csv  modificado para ensayo_8 y guadado corectamente en ../data/modificados/am2019_06.csv\n",
      "../data/1_am_ca/2019/2019_07.csv  modificado para ensayo_8 y guadado corectamente en ../data/modificados/am2019_07.csv\n",
      "../data/1_am_ca/2019/2019_08.csv  modificado para ensayo_8 y guadado corectamente en ../data/modificados/am2019_08.csv\n",
      "../data/1_am_ca/2019/2019_09.csv  modificado para ensayo_8 y guadado corectamente en ../data/modificados/am2019_09.csv\n",
      "../data/1_am_ca/2019/2019_10.csv  modificado para ensayo_8 y guadado corectamente en ../data/modificados/am2019_10.csv\n",
      "../data/1_am_ca/2019/2019_11.csv  modificado para ensayo_8 y guadado corectamente en ../data/modificados/am2019_11.csv\n",
      "../data/1_am_ca/2019/2019_12.csv  modificado para ensayo_8 y guadado corectamente en ../data/modificados/am2019_12.csv\n",
      "../data/1_am_ca/2020/2020_01.csv  modificado para ensayo_8 y guadado corectamente en ../data/modificados/am2020_01.csv\n",
      "../data/1_am_ca/2020/2020_02.csv  modificado para ensayo_8 y guadado corectamente en ../data/modificados/am2020_02.csv\n",
      "../data/1_am_ca/2020/2020_03.csv  modificado para ensayo_8 y guadado corectamente en ../data/modificados/am2020_03.csv\n",
      "../data/1_am_ca/2020/2020_04.csv  modificado para ensayo_8 y guadado corectamente en ../data/modificados/am2020_04.csv\n",
      "../data/1_am_ca/2020/2020_05.csv  modificado para ensayo_8 y guadado corectamente en ../data/modificados/am2020_05.csv\n",
      "../data/1_am_ca/2020/2020_06.csv  modificado para ensayo_8 y guadado corectamente en ../data/modificados/am2020_06.csv\n",
      "../data/1_am_ca/2020/2020_07.csv  modificado para ensayo_8 y guadado corectamente en ../data/modificados/am2020_07.csv\n",
      "../data/1_am_ca/2020/2020_08.csv  modificado para ensayo_8 y guadado corectamente en ../data/modificados/am2020_08.csv\n",
      "../data/1_am_ca/2020/2020_09.csv  modificado para ensayo_8 y guadado corectamente en ../data/modificados/am2020_09.csv\n",
      "../data/1_am_ca/2020/2020_10.csv  modificado para ensayo_8 y guadado corectamente en ../data/modificados/am2020_10.csv\n",
      "../data/1_am_ca/2020/2020_11.csv  modificado para ensayo_8 y guadado corectamente en ../data/modificados/am2020_11.csv\n",
      "../data/1_am_ca/2020/2020_12.csv  modificado para ensayo_8 y guadado corectamente en ../data/modificados/am2020_12.csv\n",
      "../data/1_am_ca/2021/2021_01.csv  modificado para ensayo_8 y guadado corectamente en ../data/modificados/am2021_01.csv\n",
      "../data/1_am_ca/2021/2021_02.csv  modificado para ensayo_8 y guadado corectamente en ../data/modificados/am2021_02.csv\n",
      "../data/1_am_ca/2021/2021_03.csv  modificado para ensayo_8 y guadado corectamente en ../data/modificados/am2021_03.csv\n",
      "../data/1_am_ca/2021/2021_04.csv  modificado para ensayo_8 y guadado corectamente en ../data/modificados/am2021_04.csv\n",
      "../data/1_am_ca/2021/2021_05.csv  modificado para ensayo_8 y guadado corectamente en ../data/modificados/am2021_05.csv\n",
      "../data/1_am_ca/2021/2021_06.csv  modificado para ensayo_8 y guadado corectamente en ../data/modificados/am2021_06.csv\n",
      "../data/1_am_ca/2021/2021_07.csv  modificado para ensayo_8 y guadado corectamente en ../data/modificados/am2021_07.csv\n",
      "../data/1_am_ca/2021/2021_08.csv  modificado para ensayo_8 y guadado corectamente en ../data/modificados/am2021_08.csv\n",
      "../data/1_am_ca/2021/2021_09.csv  modificado para ensayo_8 y guadado corectamente en ../data/modificados/am2021_09.csv\n"
     ]
    },
    {
     "name": "stdout",
     "output_type": "stream",
     "text": [
      "../data/1_am_ca/2021/2021_10.csv  modificado para ensayo_8 y guadado corectamente en ../data/modificados/am2021_10.csv\n",
      "../data/2_cm_ca/2016/2016_01.csv  modificado para ensayo_8 y guadado corectamente en ../data/modificados/cm2016_01.csv\n",
      "../data/2_cm_ca/2016/2016_02.csv  modificado para ensayo_8 y guadado corectamente en ../data/modificados/cm2016_02.csv\n",
      "../data/2_cm_ca/2016/2016_03.csv  modificado para ensayo_8 y guadado corectamente en ../data/modificados/cm2016_03.csv\n",
      "../data/2_cm_ca/2016/2016_04.csv  modificado para ensayo_8 y guadado corectamente en ../data/modificados/cm2016_04.csv\n",
      "../data/2_cm_ca/2016/2016_05.csv  modificado para ensayo_8 y guadado corectamente en ../data/modificados/cm2016_05.csv\n",
      "../data/2_cm_ca/2016/2016_06.csv  modificado para ensayo_8 y guadado corectamente en ../data/modificados/cm2016_06.csv\n",
      "../data/2_cm_ca/2016/2016_07.csv  modificado para ensayo_8 y guadado corectamente en ../data/modificados/cm2016_07.csv\n",
      "../data/2_cm_ca/2016/2016_08.csv  modificado para ensayo_8 y guadado corectamente en ../data/modificados/cm2016_08.csv\n",
      "../data/2_cm_ca/2016/2016_09.csv  modificado para ensayo_8 y guadado corectamente en ../data/modificados/cm2016_09.csv\n",
      "../data/2_cm_ca/2016/2016_10.csv  modificado para ensayo_8 y guadado corectamente en ../data/modificados/cm2016_10.csv\n",
      "../data/2_cm_ca/2016/2016_11.csv  modificado para ensayo_8 y guadado corectamente en ../data/modificados/cm2016_11.csv\n",
      "../data/2_cm_ca/2016/2016_12.csv  modificado para ensayo_8 y guadado corectamente en ../data/modificados/cm2016_12.csv\n",
      "../data/2_cm_ca/2017/2017_01.csv  modificado para ensayo_8 y guadado corectamente en ../data/modificados/cm2017_01.csv\n",
      "../data/2_cm_ca/2017/2017_02.csv  modificado para ensayo_8 y guadado corectamente en ../data/modificados/cm2017_02.csv\n",
      "../data/2_cm_ca/2017/2017_03.csv  modificado para ensayo_8 y guadado corectamente en ../data/modificados/cm2017_03.csv\n",
      "../data/2_cm_ca/2017/2017_04.csv  modificado para ensayo_8 y guadado corectamente en ../data/modificados/cm2017_04.csv\n",
      "../data/2_cm_ca/2017/2017_05.csv  modificado para ensayo_8 y guadado corectamente en ../data/modificados/cm2017_05.csv\n",
      "../data/2_cm_ca/2017/2017_06.csv  modificado para ensayo_8 y guadado corectamente en ../data/modificados/cm2017_06.csv\n",
      "../data/2_cm_ca/2017/2017_07.csv  modificado para ensayo_8 y guadado corectamente en ../data/modificados/cm2017_07.csv\n",
      "../data/2_cm_ca/2017/2017_08.csv  modificado para ensayo_8 y guadado corectamente en ../data/modificados/cm2017_08.csv\n",
      "../data/2_cm_ca/2017/2017_09.csv  modificado para ensayo_8 y guadado corectamente en ../data/modificados/cm2017_09.csv\n",
      "../data/2_cm_ca/2017/2017_10.csv  modificado para ensayo_8 y guadado corectamente en ../data/modificados/cm2017_10.csv\n",
      "../data/2_cm_ca/2017/2017_11.csv  modificado para ensayo_8 y guadado corectamente en ../data/modificados/cm2017_11.csv\n",
      "../data/2_cm_ca/2017/2017_12.csv  modificado para ensayo_8 y guadado corectamente en ../data/modificados/cm2017_12.csv\n",
      "../data/2_cm_ca/2018/2018_01.csv  modificado para ensayo_8 y guadado corectamente en ../data/modificados/cm2018_01.csv\n",
      "../data/2_cm_ca/2018/2018_02.csv  modificado para ensayo_8 y guadado corectamente en ../data/modificados/cm2018_02.csv\n",
      "../data/2_cm_ca/2018/2018_03.csv  modificado para ensayo_8 y guadado corectamente en ../data/modificados/cm2018_03.csv\n",
      "../data/2_cm_ca/2018/2018_04.csv  modificado para ensayo_8 y guadado corectamente en ../data/modificados/cm2018_04.csv\n",
      "../data/2_cm_ca/2018/2018_05.csv  modificado para ensayo_8 y guadado corectamente en ../data/modificados/cm2018_05.csv\n",
      "../data/2_cm_ca/2018/2018_06.csv  modificado para ensayo_8 y guadado corectamente en ../data/modificados/cm2018_06.csv\n",
      "../data/2_cm_ca/2018/2018_07.csv  modificado para ensayo_8 y guadado corectamente en ../data/modificados/cm2018_07.csv\n",
      "../data/2_cm_ca/2018/2018_08.csv  modificado para ensayo_8 y guadado corectamente en ../data/modificados/cm2018_08.csv\n",
      "../data/2_cm_ca/2018/2018_09.csv  modificado para ensayo_8 y guadado corectamente en ../data/modificados/cm2018_09.csv\n",
      "../data/2_cm_ca/2018/2018_10.csv  modificado para ensayo_8 y guadado corectamente en ../data/modificados/cm2018_10.csv\n",
      "../data/2_cm_ca/2018/2018_11.csv  modificado para ensayo_8 y guadado corectamente en ../data/modificados/cm2018_11.csv\n",
      "../data/2_cm_ca/2018/2018_12.csv  modificado para ensayo_8 y guadado corectamente en ../data/modificados/cm2018_12.csv\n",
      "../data/2_cm_ca/2019/2019_01.csv  modificado para ensayo_8 y guadado corectamente en ../data/modificados/cm2019_01.csv\n",
      "../data/2_cm_ca/2019/2019_02.csv  modificado para ensayo_8 y guadado corectamente en ../data/modificados/cm2019_02.csv\n",
      "../data/2_cm_ca/2019/2019_03.csv  modificado para ensayo_8 y guadado corectamente en ../data/modificados/cm2019_03.csv\n",
      "../data/2_cm_ca/2019/2019_04.csv  modificado para ensayo_8 y guadado corectamente en ../data/modificados/cm2019_04.csv\n",
      "../data/2_cm_ca/2019/2019_05.csv  modificado para ensayo_8 y guadado corectamente en ../data/modificados/cm2019_05.csv\n",
      "../data/2_cm_ca/2019/2019_06.csv  modificado para ensayo_8 y guadado corectamente en ../data/modificados/cm2019_06.csv\n",
      "../data/2_cm_ca/2019/2019_07.csv  modificado para ensayo_8 y guadado corectamente en ../data/modificados/cm2019_07.csv\n",
      "../data/2_cm_ca/2019/2019_08.csv  modificado para ensayo_8 y guadado corectamente en ../data/modificados/cm2019_08.csv\n",
      "../data/2_cm_ca/2019/2019_09.csv  modificado para ensayo_8 y guadado corectamente en ../data/modificados/cm2019_09.csv\n",
      "../data/2_cm_ca/2019/2019_10.csv  modificado para ensayo_8 y guadado corectamente en ../data/modificados/cm2019_10.csv\n",
      "../data/2_cm_ca/2019/2019_11.csv  modificado para ensayo_8 y guadado corectamente en ../data/modificados/cm2019_11.csv\n",
      "../data/2_cm_ca/2019/2019_12.csv  modificado para ensayo_8 y guadado corectamente en ../data/modificados/cm2019_12.csv\n",
      "../data/2_cm_ca/2020/2020_01.csv  modificado para ensayo_8 y guadado corectamente en ../data/modificados/cm2020_01.csv\n",
      "../data/2_cm_ca/2020/2020_02.csv  modificado para ensayo_8 y guadado corectamente en ../data/modificados/cm2020_02.csv\n",
      "../data/2_cm_ca/2020/2020_03.csv  modificado para ensayo_8 y guadado corectamente en ../data/modificados/cm2020_03.csv\n",
      "../data/2_cm_ca/2020/2020_04.csv  modificado para ensayo_8 y guadado corectamente en ../data/modificados/cm2020_04.csv\n",
      "../data/2_cm_ca/2020/2020_05.csv  modificado para ensayo_8 y guadado corectamente en ../data/modificados/cm2020_05.csv\n",
      "../data/2_cm_ca/2020/2020_06.csv  modificado para ensayo_8 y guadado corectamente en ../data/modificados/cm2020_06.csv\n",
      "../data/2_cm_ca/2020/2020_07.csv  modificado para ensayo_8 y guadado corectamente en ../data/modificados/cm2020_07.csv\n",
      "../data/2_cm_ca/2020/2020_08.csv  modificado para ensayo_8 y guadado corectamente en ../data/modificados/cm2020_08.csv\n",
      "../data/2_cm_ca/2020/2020_09.csv  modificado para ensayo_8 y guadado corectamente en ../data/modificados/cm2020_09.csv\n",
      "../data/2_cm_ca/2020/2020_10.csv  modificado para ensayo_8 y guadado corectamente en ../data/modificados/cm2020_10.csv\n",
      "../data/2_cm_ca/2020/2020_11.csv  modificado para ensayo_8 y guadado corectamente en ../data/modificados/cm2020_11.csv\n",
      "../data/2_cm_ca/2020/2020_12.csv  modificado para ensayo_8 y guadado corectamente en ../data/modificados/cm2020_12.csv\n",
      "../data/2_cm_ca/2021/2021_01.csv  modificado para ensayo_8 y guadado corectamente en ../data/modificados/cm2021_01.csv\n",
      "../data/2_cm_ca/2021/2021_02.csv  modificado para ensayo_8 y guadado corectamente en ../data/modificados/cm2021_02.csv\n",
      "../data/2_cm_ca/2021/2021_03.csv  modificado para ensayo_8 y guadado corectamente en ../data/modificados/cm2021_03.csv\n",
      "../data/2_cm_ca/2021/2021_04.csv  modificado para ensayo_8 y guadado corectamente en ../data/modificados/cm2021_04.csv\n",
      "../data/2_cm_ca/2021/2021_05.csv  modificado para ensayo_8 y guadado corectamente en ../data/modificados/cm2021_05.csv\n",
      "../data/2_cm_ca/2021/2021_06.csv  modificado para ensayo_8 y guadado corectamente en ../data/modificados/cm2021_06.csv\n",
      "../data/2_cm_ca/2021/2021_07.csv  modificado para ensayo_8 y guadado corectamente en ../data/modificados/cm2021_07.csv\n",
      "../data/2_cm_ca/2021/2021_08.csv  modificado para ensayo_8 y guadado corectamente en ../data/modificados/cm2021_08.csv\n"
     ]
    },
    {
     "name": "stdout",
     "output_type": "stream",
     "text": [
      "../data/2_cm_ca/2021/2021_09.csv  modificado para ensayo_8 y guadado corectamente en ../data/modificados/cm2021_09.csv\n",
      "../data/2_cm_ca/2021/2021_10.csv  modificado para ensayo_8 y guadado corectamente en ../data/modificados/cm2021_10.csv\n",
      "../data/2_cm_ca/2021/2021_11.csv  modificado para ensayo_8 y guadado corectamente en ../data/modificados/cm2021_11.csv\n"
     ]
    }
   ],
   "source": [
    "for i in range(len(argumentos)):\n",
    "    cdat.ensayos(argumentos[i][0], argumentos[i][1],'ensayo_8')"
   ]
  },
  {
   "cell_type": "code",
   "execution_count": null,
   "id": "5f60d058",
   "metadata": {},
   "outputs": [],
   "source": []
  },
  {
   "cell_type": "code",
   "execution_count": null,
   "id": "2c928a19",
   "metadata": {},
   "outputs": [],
   "source": []
  }
 ],
 "metadata": {
  "kernelspec": {
   "display_name": "minimal_ds",
   "language": "python",
   "name": "minimal_ds"
  },
  "language_info": {
   "codemirror_mode": {
    "name": "ipython",
    "version": 3
   },
   "file_extension": ".py",
   "mimetype": "text/x-python",
   "name": "python",
   "nbconvert_exporter": "python",
   "pygments_lexer": "ipython3",
   "version": "3.10.0"
  },
  "toc": {
   "base_numbering": 1,
   "nav_menu": {},
   "number_sections": true,
   "sideBar": true,
   "skip_h1_title": false,
   "title_cell": "Table of Contents",
   "title_sidebar": "Contents",
   "toc_cell": false,
   "toc_position": {},
   "toc_section_display": true,
   "toc_window_display": false
  }
 },
 "nbformat": 4,
 "nbformat_minor": 5
}
