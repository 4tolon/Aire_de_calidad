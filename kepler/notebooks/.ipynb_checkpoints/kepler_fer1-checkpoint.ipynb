{
 "cells": [
  {
   "cell_type": "code",
   "execution_count": 25,
   "id": "43d614dd-cb72-4d66-835e-18017e8ae4a6",
   "metadata": {},
   "outputs": [],
   "source": [
    "import pandas as pd\n",
    "import geopandas as gpd\n",
    "from keplergl import KeplerGl\n",
    "\n",
    "import sys\n",
    "import os\n",
    "import glob\n",
    "sys.path.append('../../src')\n",
    "import cargadata as cdat"
   ]
  },
  {
   "cell_type": "code",
   "execution_count": 26,
   "id": "5c584355-f7c0-4f86-bfdc-8f9e0de30071",
   "metadata": {},
   "outputs": [],
   "source": [
    "df = pd.read_csv(\"../Input/df8_d_.csv\")"
   ]
  },
  {
   "cell_type": "code",
   "execution_count": 27,
   "id": "96a9bb5d-2941-4bbd-85fa-5c4f2d43b5b2",
   "metadata": {},
   "outputs": [
    {
     "name": "stdout",
     "output_type": "stream",
     "text": [
      "<class 'pandas.core.frame.DataFrame'>\n",
      "RangeIndex: 102336 entries, 0 to 102335\n",
      "Data columns (total 5 columns):\n",
      " #   Column    Non-Null Count   Dtype  \n",
      "---  ------    --------------   -----  \n",
      " 0   index     102336 non-null  object \n",
      " 1   variable  102336 non-null  int64  \n",
      " 2   value     101061 non-null  float64\n",
      " 3   lat       102336 non-null  float64\n",
      " 4   lon       102336 non-null  float64\n",
      "dtypes: float64(3), int64(1), object(1)\n",
      "memory usage: 3.9+ MB\n"
     ]
    }
   ],
   "source": [
    "df.info()"
   ]
  },
  {
   "cell_type": "code",
   "execution_count": 22,
   "id": "155dfbec-df4e-46ed-a4f6-89c1d8101962",
   "metadata": {},
   "outputs": [
    {
     "data": {
      "text/html": [
       "<div>\n",
       "<style scoped>\n",
       "    .dataframe tbody tr th:only-of-type {\n",
       "        vertical-align: middle;\n",
       "    }\n",
       "\n",
       "    .dataframe tbody tr th {\n",
       "        vertical-align: top;\n",
       "    }\n",
       "\n",
       "    .dataframe thead th {\n",
       "        text-align: right;\n",
       "    }\n",
       "</style>\n",
       "<table border=\"1\" class=\"dataframe\">\n",
       "  <thead>\n",
       "    <tr style=\"text-align: right;\">\n",
       "      <th></th>\n",
       "      <th>index</th>\n",
       "      <th>variable</th>\n",
       "      <th>value</th>\n",
       "      <th>lat</th>\n",
       "      <th>lon</th>\n",
       "    </tr>\n",
       "  </thead>\n",
       "  <tbody>\n",
       "    <tr>\n",
       "      <th>0</th>\n",
       "      <td>2016-01-01</td>\n",
       "      <td>28079004</td>\n",
       "      <td>39.695652</td>\n",
       "      <td>40.423882</td>\n",
       "      <td>-3.712257</td>\n",
       "    </tr>\n",
       "    <tr>\n",
       "      <th>1</th>\n",
       "      <td>2016-01-02</td>\n",
       "      <td>28079004</td>\n",
       "      <td>26.416667</td>\n",
       "      <td>40.423882</td>\n",
       "      <td>-3.712257</td>\n",
       "    </tr>\n",
       "    <tr>\n",
       "      <th>2</th>\n",
       "      <td>2016-01-03</td>\n",
       "      <td>28079004</td>\n",
       "      <td>34.083333</td>\n",
       "      <td>40.423882</td>\n",
       "      <td>-3.712257</td>\n",
       "    </tr>\n",
       "    <tr>\n",
       "      <th>3</th>\n",
       "      <td>2016-01-04</td>\n",
       "      <td>28079004</td>\n",
       "      <td>17.583333</td>\n",
       "      <td>40.423882</td>\n",
       "      <td>-3.712257</td>\n",
       "    </tr>\n",
       "    <tr>\n",
       "      <th>4</th>\n",
       "      <td>2016-01-05</td>\n",
       "      <td>28079004</td>\n",
       "      <td>29.291667</td>\n",
       "      <td>40.423882</td>\n",
       "      <td>-3.712257</td>\n",
       "    </tr>\n",
       "  </tbody>\n",
       "</table>\n",
       "</div>"
      ],
      "text/plain": [
       "        index  variable      value        lat       lon\n",
       "0  2016-01-01  28079004  39.695652  40.423882 -3.712257\n",
       "1  2016-01-02  28079004  26.416667  40.423882 -3.712257\n",
       "2  2016-01-03  28079004  34.083333  40.423882 -3.712257\n",
       "3  2016-01-04  28079004  17.583333  40.423882 -3.712257\n",
       "4  2016-01-05  28079004  29.291667  40.423882 -3.712257"
      ]
     },
     "execution_count": 22,
     "metadata": {},
     "output_type": "execute_result"
    }
   ],
   "source": [
    "df.head()"
   ]
  },
  {
   "cell_type": "code",
   "execution_count": 28,
   "id": "2fbc2c8f-383b-4f17-889e-bc3fc11b3c1f",
   "metadata": {},
   "outputs": [],
   "source": [
    "df.rename({'index':'fecha'}, axis=1, inplace=True)"
   ]
  },
  {
   "cell_type": "code",
   "execution_count": 29,
   "id": "d4ad979a-8589-4c57-b818-0cf61e3a0d66",
   "metadata": {},
   "outputs": [
    {
     "data": {
      "text/html": [
       "<div>\n",
       "<style scoped>\n",
       "    .dataframe tbody tr th:only-of-type {\n",
       "        vertical-align: middle;\n",
       "    }\n",
       "\n",
       "    .dataframe tbody tr th {\n",
       "        vertical-align: top;\n",
       "    }\n",
       "\n",
       "    .dataframe thead th {\n",
       "        text-align: right;\n",
       "    }\n",
       "</style>\n",
       "<table border=\"1\" class=\"dataframe\">\n",
       "  <thead>\n",
       "    <tr style=\"text-align: right;\">\n",
       "      <th></th>\n",
       "      <th>fecha</th>\n",
       "      <th>variable</th>\n",
       "      <th>value</th>\n",
       "      <th>lat</th>\n",
       "      <th>lon</th>\n",
       "    </tr>\n",
       "  </thead>\n",
       "  <tbody>\n",
       "    <tr>\n",
       "      <th>0</th>\n",
       "      <td>2016-01-01</td>\n",
       "      <td>28079004</td>\n",
       "      <td>39.695652</td>\n",
       "      <td>40.423882</td>\n",
       "      <td>-3.712257</td>\n",
       "    </tr>\n",
       "    <tr>\n",
       "      <th>1</th>\n",
       "      <td>2016-01-02</td>\n",
       "      <td>28079004</td>\n",
       "      <td>26.416667</td>\n",
       "      <td>40.423882</td>\n",
       "      <td>-3.712257</td>\n",
       "    </tr>\n",
       "    <tr>\n",
       "      <th>2</th>\n",
       "      <td>2016-01-03</td>\n",
       "      <td>28079004</td>\n",
       "      <td>34.083333</td>\n",
       "      <td>40.423882</td>\n",
       "      <td>-3.712257</td>\n",
       "    </tr>\n",
       "    <tr>\n",
       "      <th>3</th>\n",
       "      <td>2016-01-04</td>\n",
       "      <td>28079004</td>\n",
       "      <td>17.583333</td>\n",
       "      <td>40.423882</td>\n",
       "      <td>-3.712257</td>\n",
       "    </tr>\n",
       "    <tr>\n",
       "      <th>4</th>\n",
       "      <td>2016-01-05</td>\n",
       "      <td>28079004</td>\n",
       "      <td>29.291667</td>\n",
       "      <td>40.423882</td>\n",
       "      <td>-3.712257</td>\n",
       "    </tr>\n",
       "    <tr>\n",
       "      <th>...</th>\n",
       "      <td>...</td>\n",
       "      <td>...</td>\n",
       "      <td>...</td>\n",
       "      <td>...</td>\n",
       "      <td>...</td>\n",
       "    </tr>\n",
       "    <tr>\n",
       "      <th>102331</th>\n",
       "      <td>2021-10-28</td>\n",
       "      <td>28120001</td>\n",
       "      <td>8.750000</td>\n",
       "      <td>40.825111</td>\n",
       "      <td>-3.961194</td>\n",
       "    </tr>\n",
       "    <tr>\n",
       "      <th>102332</th>\n",
       "      <td>2021-10-29</td>\n",
       "      <td>28120001</td>\n",
       "      <td>1.833333</td>\n",
       "      <td>40.825111</td>\n",
       "      <td>-3.961194</td>\n",
       "    </tr>\n",
       "    <tr>\n",
       "      <th>102333</th>\n",
       "      <td>2021-10-30</td>\n",
       "      <td>28120001</td>\n",
       "      <td>1.041667</td>\n",
       "      <td>40.825111</td>\n",
       "      <td>-3.961194</td>\n",
       "    </tr>\n",
       "    <tr>\n",
       "      <th>102334</th>\n",
       "      <td>2021-10-31</td>\n",
       "      <td>28120001</td>\n",
       "      <td>1.000000</td>\n",
       "      <td>40.825111</td>\n",
       "      <td>-3.961194</td>\n",
       "    </tr>\n",
       "    <tr>\n",
       "      <th>102335</th>\n",
       "      <td>2021-11-01</td>\n",
       "      <td>28120001</td>\n",
       "      <td>1.000000</td>\n",
       "      <td>40.825111</td>\n",
       "      <td>-3.961194</td>\n",
       "    </tr>\n",
       "  </tbody>\n",
       "</table>\n",
       "<p>102336 rows × 5 columns</p>\n",
       "</div>"
      ],
      "text/plain": [
       "             fecha  variable      value        lat       lon\n",
       "0       2016-01-01  28079004  39.695652  40.423882 -3.712257\n",
       "1       2016-01-02  28079004  26.416667  40.423882 -3.712257\n",
       "2       2016-01-03  28079004  34.083333  40.423882 -3.712257\n",
       "3       2016-01-04  28079004  17.583333  40.423882 -3.712257\n",
       "4       2016-01-05  28079004  29.291667  40.423882 -3.712257\n",
       "...            ...       ...        ...        ...       ...\n",
       "102331  2021-10-28  28120001   8.750000  40.825111 -3.961194\n",
       "102332  2021-10-29  28120001   1.833333  40.825111 -3.961194\n",
       "102333  2021-10-30  28120001   1.041667  40.825111 -3.961194\n",
       "102334  2021-10-31  28120001   1.000000  40.825111 -3.961194\n",
       "102335  2021-11-01  28120001   1.000000  40.825111 -3.961194\n",
       "\n",
       "[102336 rows x 5 columns]"
      ]
     },
     "execution_count": 29,
     "metadata": {},
     "output_type": "execute_result"
    }
   ],
   "source": [
    "df"
   ]
  },
  {
   "cell_type": "code",
   "execution_count": null,
   "id": "891d1c6b-98fc-4615-b1a5-58f8c4112634",
   "metadata": {},
   "outputs": [],
   "source": []
  },
  {
   "cell_type": "code",
   "execution_count": 31,
   "id": "de4b8aa5-7493-4ac2-8be3-5c8a0efd70d4",
   "metadata": {},
   "outputs": [],
   "source": [
    "df.fecha = pd.to_datetime(df.fecha)\n",
    "#df = df.asfreq('D')"
   ]
  },
  {
   "cell_type": "code",
   "execution_count": 32,
   "id": "54fa0a0f-d9e0-4f2b-a396-dfa4ce54aaba",
   "metadata": {},
   "outputs": [
    {
     "data": {
      "text/html": [
       "<div>\n",
       "<style scoped>\n",
       "    .dataframe tbody tr th:only-of-type {\n",
       "        vertical-align: middle;\n",
       "    }\n",
       "\n",
       "    .dataframe tbody tr th {\n",
       "        vertical-align: top;\n",
       "    }\n",
       "\n",
       "    .dataframe thead th {\n",
       "        text-align: right;\n",
       "    }\n",
       "</style>\n",
       "<table border=\"1\" class=\"dataframe\">\n",
       "  <thead>\n",
       "    <tr style=\"text-align: right;\">\n",
       "      <th></th>\n",
       "      <th>fecha</th>\n",
       "      <th>variable</th>\n",
       "      <th>value</th>\n",
       "      <th>lat</th>\n",
       "      <th>lon</th>\n",
       "    </tr>\n",
       "  </thead>\n",
       "  <tbody>\n",
       "    <tr>\n",
       "      <th>0</th>\n",
       "      <td>2016-01-01</td>\n",
       "      <td>28079004</td>\n",
       "      <td>39.695652</td>\n",
       "      <td>40.423882</td>\n",
       "      <td>-3.712257</td>\n",
       "    </tr>\n",
       "    <tr>\n",
       "      <th>1</th>\n",
       "      <td>2016-01-02</td>\n",
       "      <td>28079004</td>\n",
       "      <td>26.416667</td>\n",
       "      <td>40.423882</td>\n",
       "      <td>-3.712257</td>\n",
       "    </tr>\n",
       "    <tr>\n",
       "      <th>2</th>\n",
       "      <td>2016-01-03</td>\n",
       "      <td>28079004</td>\n",
       "      <td>34.083333</td>\n",
       "      <td>40.423882</td>\n",
       "      <td>-3.712257</td>\n",
       "    </tr>\n",
       "    <tr>\n",
       "      <th>3</th>\n",
       "      <td>2016-01-04</td>\n",
       "      <td>28079004</td>\n",
       "      <td>17.583333</td>\n",
       "      <td>40.423882</td>\n",
       "      <td>-3.712257</td>\n",
       "    </tr>\n",
       "    <tr>\n",
       "      <th>4</th>\n",
       "      <td>2016-01-05</td>\n",
       "      <td>28079004</td>\n",
       "      <td>29.291667</td>\n",
       "      <td>40.423882</td>\n",
       "      <td>-3.712257</td>\n",
       "    </tr>\n",
       "  </tbody>\n",
       "</table>\n",
       "</div>"
      ],
      "text/plain": [
       "       fecha  variable      value        lat       lon\n",
       "0 2016-01-01  28079004  39.695652  40.423882 -3.712257\n",
       "1 2016-01-02  28079004  26.416667  40.423882 -3.712257\n",
       "2 2016-01-03  28079004  34.083333  40.423882 -3.712257\n",
       "3 2016-01-04  28079004  17.583333  40.423882 -3.712257\n",
       "4 2016-01-05  28079004  29.291667  40.423882 -3.712257"
      ]
     },
     "execution_count": 32,
     "metadata": {},
     "output_type": "execute_result"
    }
   ],
   "source": [
    "df.head()"
   ]
  },
  {
   "cell_type": "code",
   "execution_count": 37,
   "id": "4f80522c-2edb-4929-89fa-52019dd9cd2b",
   "metadata": {},
   "outputs": [
    {
     "data": {
      "text/plain": [
       "0        2016-01-01\n",
       "1        2016-01-02\n",
       "2        2016-01-03\n",
       "3        2016-01-04\n",
       "4        2016-01-05\n",
       "            ...    \n",
       "102331   2021-10-28\n",
       "102332   2021-10-29\n",
       "102333   2021-10-30\n",
       "102334   2021-10-31\n",
       "102335   2021-11-01\n",
       "Name: fecha, Length: 102336, dtype: datetime64[ns]"
      ]
     },
     "execution_count": 37,
     "metadata": {},
     "output_type": "execute_result"
    }
   ],
   "source": [
    "df.fecha"
   ]
  },
  {
   "cell_type": "code",
   "execution_count": null,
   "id": "a3b17e24-9f05-4834-b91b-19bf162798b8",
   "metadata": {},
   "outputs": [],
   "source": []
  },
  {
   "cell_type": "code",
   "execution_count": 38,
   "id": "1da5897d-8dc9-4165-8107-d560ea10dd42",
   "metadata": {},
   "outputs": [
    {
     "data": {
      "text/plain": [
       "fecha       datetime64[ns]\n",
       "variable             int64\n",
       "value              float64\n",
       "lat                float64\n",
       "lon                float64\n",
       "dtype: object"
      ]
     },
     "execution_count": 38,
     "metadata": {},
     "output_type": "execute_result"
    }
   ],
   "source": [
    "df.dtypes"
   ]
  },
  {
   "cell_type": "code",
   "execution_count": 39,
   "id": "11269609-d4f0-4294-af7a-4a00db1eded1",
   "metadata": {},
   "outputs": [
    {
     "name": "stdout",
     "output_type": "stream",
     "text": [
      "User Guide: https://docs.kepler.gl/docs/keplergl-jupyter\n"
     ]
    },
    {
     "data": {
      "application/vnd.jupyter.widget-view+json": {
       "model_id": "ad3ce69c463545948302b5d21114944d",
       "version_major": 2,
       "version_minor": 0
      },
      "text/plain": [
       "KeplerGl(data={'value':             fecha  variable      value        lat       lon\n",
       "0      2016-01-01  2807900…"
      ]
     },
     "metadata": {},
     "output_type": "display_data"
    },
    {
     "name": "stderr",
     "output_type": "stream",
     "text": [
      "/usr/local/lib/python3.8/dist-packages/jupyter_client/session.py:716: UserWarning: Message serialization failed with:\n",
      "Out of range float values are not JSON compliant\n",
      "Supporting this message is deprecated in jupyter-client 7, please make sure your message is JSON-compliant\n",
      "  content = self.pack(content)\n"
     ]
    }
   ],
   "source": [
    "#Create a basemap \n",
    "map_1= KeplerGl(height=700, weight = 500, data={'value': df})\n",
    "#show the map\n",
    "map_1"
   ]
  },
  {
   "cell_type": "code",
   "execution_count": 40,
   "id": "42e43064-e2b0-4ff8-b6af-e422edb5e620",
   "metadata": {},
   "outputs": [],
   "source": [
    "config = map_1.config"
   ]
  },
  {
   "cell_type": "code",
   "execution_count": 12,
   "id": "d41fe3ba-df64-4966-8c70-e56ae007806e",
   "metadata": {},
   "outputs": [
    {
     "data": {
      "text/plain": [
       "{}"
      ]
     },
     "execution_count": 12,
     "metadata": {},
     "output_type": "execute_result"
    }
   ],
   "source": [
    "config"
   ]
  },
  {
   "cell_type": "code",
   "execution_count": null,
   "id": "073dad01-711d-4679-8b57-03536f08f868",
   "metadata": {},
   "outputs": [],
   "source": []
  },
  {
   "cell_type": "code",
   "execution_count": null,
   "id": "33e52cf7-5181-4742-af90-10787c9713b7",
   "metadata": {},
   "outputs": [],
   "source": []
  }
 ],
 "metadata": {
  "kernelspec": {
   "display_name": "final",
   "language": "python",
   "name": "final"
  },
  "language_info": {
   "codemirror_mode": {
    "name": "ipython",
    "version": 3
   },
   "file_extension": ".py",
   "mimetype": "text/x-python",
   "name": "python",
   "nbconvert_exporter": "python",
   "pygments_lexer": "ipython3",
   "version": "3.8.10"
  }
 },
 "nbformat": 4,
 "nbformat_minor": 5
}
